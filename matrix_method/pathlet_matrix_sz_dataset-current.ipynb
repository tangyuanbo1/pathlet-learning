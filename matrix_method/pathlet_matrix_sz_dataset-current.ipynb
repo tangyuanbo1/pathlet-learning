{
 "cells": [
  {
   "cell_type": "code",
   "execution_count": 1,
   "id": "7d47b9e2",
   "metadata": {},
   "outputs": [],
   "source": [
    "import numpy as np\n",
    "import sys\n",
    "sys.path.append('..')\n",
    "\n",
    "import os\n",
    "import re\n",
    "import json\n",
    "import numpy as np\n",
    "from utils.utils import *\n",
    "import torch\n",
    "import numpy as np\n",
    "from torch.autograd import Variable\n",
    "import torch.nn.functional as F\n",
    "import matplotlib.pyplot as plt\n",
    "from tqdm import trange\n",
    "from torch.optim.lr_scheduler import StepLR\n",
    "import matplotlib.pyplot as plt\n",
    "import pandas as pd\n",
    "import seaborn as sns\n",
    "import torch\n",
    "import dill\n",
    "import matplotlib.pyplot as plt\n",
    "from tqdm import tqdm\n",
    "# print(torch.__version__)\n",
    "# print(torch.version.cuda)\n",
    "# use_gpu = torch.cuda.is_available()\n",
    "# use_gpu\n",
    "sns.set_theme(style=\"darkgrid\")\n",
    "import warnings\n",
    "warnings.filterwarnings(\"ignore\")\n",
    "from tqdm import tqdm"
   ]
  },
  {
   "cell_type": "markdown",
   "id": "5174b401",
   "metadata": {},
   "source": [
    "保存当前变量"
   ]
  },
  {
   "cell_type": "code",
   "execution_count": 2,
   "id": "09718461",
   "metadata": {
    "tags": []
   },
   "outputs": [],
   "source": [
    "# # 保存当前变量\n",
    "# dill.dump_session('notebook_env_matrix0221.db')\n",
    "# dill.load_session('notebook_env_matrix0206.db')\n",
    "# dill.dump_session('load_dataset.db')\n",
    "# dill.load_session('load_dataset.db')\n",
    "# dill.dump_session('train_complete.db')"
   ]
  },
  {
   "cell_type": "markdown",
   "id": "42311c02",
   "metadata": {},
   "source": [
    "定时关机"
   ]
  },
  {
   "cell_type": "code",
   "execution_count": 3,
   "id": "89b1c03e-cf0b-4835-a3f5-03ac9e30e7d1",
   "metadata": {},
   "outputs": [],
   "source": [
    "# !sleep 30; sh /mistgpu/shutdown.sh"
   ]
  },
  {
   "cell_type": "markdown",
   "id": "d7b3bea3-9a45-40d4-b6e3-92f5ab314d95",
   "metadata": {},
   "source": [
    "数据初始化"
   ]
  },
  {
   "cell_type": "code",
   "execution_count": 4,
   "id": "e4d66bd2",
   "metadata": {},
   "outputs": [
    {
     "name": "stdout",
     "output_type": "stream",
     "text": [
      "len of raw tras when loading: 31402\n",
      "len of raw tras after filter edges more than 6: 31402\n",
      "the first trajectory:\n",
      "[(7973259347, 7973259337, 7973259335, 7973259332, 7973259330, 1491785794, 1491785824), (7973259347, 7973259337, 7973259335, 7973259332, 7973259330, 1491785794, 1491785824, 1491785846, 498882128, 498883178, 7973114657), (7973259337, 7973259335, 7973259332, 7973259330, 1491785794, 1491785824, 1491785846), (7973259350, 7973259347, 7973259337, 7973259335, 7973259332, 7973259330, 1491785794), (7973259330, 1491785794, 1491785824, 1491785846, 498882128, 498883178, 8076307493, 8076307486, 9906792548, 498882100, 7986471687), (1491785824, 1491785846, 498882128, 498883178, 8076307493, 8076307486, 9906792548, 498882100, 7986471687), (498883178, 7973114657, 8869146993, 5187499081, 5187499081, 5187499094, 8792350045, 7973099572, 7973114535, 7973099510, 7973099511, 5274731030, 7975273880, 7975273879, 7973099523, 7973099522, 7973099524, 7973099525, 2530284924, 7973114733, 8076307493, 8076307486), (7973099522, 7973099524, 7973099525, 2530284924, 7973114733, 8076307493, 8076307486), (8393169811, 498882122, 8076307493, 8076307486, 9906792548, 498882100, 7986471687), (498882100, 7986471687, 5187499101, 9906876185, 9906876177, 7986450937, 7986450923, 9906876142), (498882100, 7986471687, 5187499101, 9906876185, 9906876177, 7986450937, 7986450923, 9906876142, 1116534605, 5771508454), (498882100, 7986471687, 5187499101, 9906876185, 9906876177, 7986450937, 7986450923, 9906876142, 1116534605, 5771508454, 3969348466, 1116534581), (498882100, 7986471687, 5187499101, 9906876185, 9906876177, 7986450937, 7986450923, 9906876142, 1116534605, 5771508454, 3969348466, 1116534581, 1116534705, 5273698182, 8000086948, 8000086882, 8000086883, 8000086873, 8000086875, 5273698153, 5273698158, 1116534740, 1476460562, 1476460614), (8000086873, 8000086875, 5273698153, 5273698158, 1116534740, 1476460562, 1476460614)]\n",
      "split tras and tras_test\n",
      "tras chosen: 31402\n"
     ]
    }
   ],
   "source": [
    "# 设置基础参数和文件路径\n",
    "l = 10000 # 边的数量\n",
    "m = 30000 # p空间的数量\n",
    "n = 300 # 轨迹数据集的大小\n",
    "# 超参数\n",
    "mu=10\n",
    "la=10.0/n\n",
    "# raw_tras = load_tras(\"generated_trajectory_dataset_highspeedway20220830.npy\")\n",
    "# raw_tras_sz = load_tras(\"/home/mist/pathlet/tra_dataset_nanshan19004.npy\")\n",
    "raw_tras_name = \"tra_dataset_haidiian21_16_10562\"\n",
    "raw_tras_name = \"tra_dataset_haidiian22_16_3132\"\n",
    "raw_tras_name = \"tra_dataset_futian4_5_9456\"\n",
    "raw_tras_name = \"tra_dataset_futian5_4_56958\"\n",
    "raw_tras_name = \"tra_dataset_futian5_5_17530\"\n",
    "raw_tras_name = \"tra_dataset_futian5_6_1475\"\n",
    "raw_tras_name = \"tra_dataset_futian_p2_31402\"\n",
    "# raw_tras_name =\"tra_dataset_nanshan3_6_3038\"\n",
    "raw_tras_sz = load_tras(\"/root/\"+raw_tras_name+\".npy\")\n",
    "print(\"len of raw tras when loading:\",len(raw_tras_sz))\n",
    "tras_,tra_index_list = filter_raw_num_of_edge_6(raw_tras_sz)#由于算力有限，我们只能使用数据集的一部分进行计算 全集为tras_ 子集为tras\n",
    "\n",
    "\n",
    "\n",
    "# np.save('tra_index_list.npy',np.array(tra_index_list,dtype=object))"
   ]
  },
  {
   "cell_type": "code",
   "execution_count": 5,
   "id": "ac658a96-500c-4e2e-8ba5-e716f6263046",
   "metadata": {},
   "outputs": [
    {
     "name": "stderr",
     "output_type": "stream",
     "text": [
      "100%|██████████| 15000/15000 [00:08<00:00, 1723.06it/s]\n"
     ]
    },
    {
     "name": "stdout",
     "output_type": "stream",
     "text": [
      "len(edge_list): 107293 len(path_list): 284188 len(tras): 15000\n",
      "len(edge_list): 22348 len(path_list): 283850 len(tras): 15000\n"
     ]
    },
    {
     "name": "stderr",
     "output_type": "stream",
     "text": [
      "100%|██████████| 15000/15000 [00:00<00:00, 50988.13it/s]\n"
     ]
    },
    {
     "name": "stdout",
     "output_type": "stream",
     "text": [
      "len(edge_list): 22348 len(path_list): 15071 len(tras): 15000\n"
     ]
    }
   ],
   "source": [
    "# -------------------\n",
    "filter_num=2\n",
    "shortest_edge_num = 5\n",
    "tras = tras_[:15000] \n",
    "\n",
    "# 我们需要获得所有的edge并且编号；并且获得所有的t与e的对应关系 这样方便下一步计算矩阵，也就是得到edge_list and path_list\n",
    "# 先计算一下e和p的大小\n",
    "edge_list = []\n",
    "path_list = []\n",
    "path_list_cnt_ = []\n",
    "tra_index = 0\n",
    "\n",
    "# path_list_dict={}#记录不同的pathlet\n",
    "path_list_dict_cnt={}#记录不同的pathlet对应的被经过的次数\n",
    "for i in trange(len(tras)):\n",
    "    tra = tras[i]\n",
    "    for edge in tra:\n",
    "        edge_list.append(str(edge).replace(\" \",\"\"))  \n",
    "    for path in generate_all_p(tra,shortest_edge_num,1000):\n",
    "        path_len = len(path)\n",
    "        path_str = str(path).replace(\" \",\"\")\n",
    "        path_list.append(path_str)\n",
    "        if path_str not in path_list_dict_cnt.keys():\n",
    "            path_list_dict_cnt[path_str]=[1,0]\n",
    "        else:\n",
    "            path_list_dict_cnt[path_str][0]+=1\n",
    "l,m,n = len(edge_list)+10,len(path_list)+10,len(tras)\n",
    "print(\"len(edge_list):\",l,\"len(path_list):\",m,\"len(tras):\",n)\n",
    "edge_list = list(set(edge_list))           \n",
    "path_list = list(path_list_dict_cnt.keys())\n",
    "l,m,n = len(edge_list)+10,len(path_list)+10,len(tras)\n",
    "print(\"len(edge_list):\",l,\"len(path_list):\",m,\"len(tras):\",n)\n",
    "# 这一次是根据pathlet的frequency来过滤一部分不太常用的path\n",
    "\n",
    "old_path_list = path_list\n",
    "path_list = []\n",
    "path_index=0\n",
    "for i in range(len(old_path_list)):\n",
    "    if path_list_dict_cnt[old_path_list[i]][0]>filter_num:\n",
    "        path_list.append(old_path_list[i])\n",
    "        path_list_dict_cnt[old_path_list[i]][1]=path_index\n",
    "        path_index+=1\n",
    "for i in trange(len(tras)):\n",
    "    tra = tras[i]\n",
    "    path_list.append(str(tra).replace(\" \",\"\"))\n",
    "l,m,n = len(edge_list)+10,len(path_list)+10,len(tras)\n",
    "print(\"len(edge_list):\",l,\"len(path_list):\",m,\"len(tras):\",n)\n",
    "\n",
    "# # 存储pathlet_list\n",
    "np.save('path_list'+raw_tras_name+'.npy',np.array(path_list,dtype=object))   # 保存为.npy格式\n",
    "# np.save('edge_list.npy',np.array(edge_list,dtype=object))   # 保存为.npy格式"
   ]
  },
  {
   "cell_type": "code",
   "execution_count": 6,
   "id": "6d73eed9",
   "metadata": {},
   "outputs": [
    {
     "name": "stderr",
     "output_type": "stream",
     "text": [
      "100%|██████████| 15000/15000 [00:43<00:00, 348.83it/s] \n",
      "100%|██████████| 15061/15061 [01:06<00:00, 227.04it/s]"
     ]
    },
    {
     "name": "stdout",
     "output_type": "stream",
     "text": [
      "x.dtype:  torch.float32\n"
     ]
    },
    {
     "name": "stderr",
     "output_type": "stream",
     "text": [
      "\n"
     ]
    }
   ],
   "source": [
    "# 计算三个矩阵\n",
    "D = np.zeros((l, m)) #记录e与p之间关系\n",
    "R = np.zeros(( m,n)) #记录p与t之间关系\n",
    "T = np.zeros((l, n)) #记录e和t之间关系\n",
    "D_tensor=torch.zeros(len(edge_list)+10,len(path_list)+10)#.cuda()\n",
    "computed_path = []\n",
    "\n",
    "tra_index = 0\n",
    "for i in trange(len(tras)):\n",
    "    tra = tras[i]\n",
    "    for edge in tra:\n",
    "        T[edge_list.index(str(edge).replace(\" \",\"\"))][i] = 1\n",
    "    path_index = path_list.index(str(tra).replace(\" \",\"\"))\n",
    "    R[path_index][i]=1\n",
    "from tqdm import tqdm\n",
    "for path in tqdm(path_list):\n",
    "    path_index = path_list.index(path)\n",
    "    edge_list_of_temp_pathlet= path_str2list(path)\n",
    "    for edge in edge_list_of_temp_pathlet:\n",
    "        if edge in edge_list:\n",
    "            D_tensor[edge_list.index(edge)][path_index] = 1\n",
    "\n",
    "D_tensor=D_tensor#.cuda()\n",
    "T_tensor=torch.from_numpy(T[:len(edge_list)+10])#.cuda()\n",
    "print('x.dtype: ',D_tensor.dtype)  # x的具体类型\n",
    "R_tensor_tejie=torch.from_numpy(R[:len(path_list)+10])\n",
    "# R_tensor=torch.rand(len(path_list)+10,n).double()\n",
    "# D=np.load(\"./D.npy\",allow_pickle=True)\n",
    "# T=np.load(\"./T.npy\",allow_pickle=True)\n",
    "# R=np.load(\"./R.npy\",allow_pickle=True)\n",
    "# # 保存数据为csv，供matlab使用\n",
    "# numpy.savetxt(\"D_tensor_148.csv\", D_tensor.cpu().detach().numpy(), delimiter=',')\n",
    "# numpy.savetxt(\"T_tensor_148.csv\", T_tensor[:,0:30].cpu().detach().numpy(), delimiter=',')"
   ]
  },
  {
   "cell_type": "code",
   "execution_count": 7,
   "id": "2e69ad3a-7671-410d-9924-a42679fad8ae",
   "metadata": {},
   "outputs": [],
   "source": [
    "# 可视化pathlet的频次分布\n",
    "# df_path_list_cnt=pd.DataFrame(path_list_cnt_,columns=[\"cnt\"])\n",
    "\n",
    "# df_path_list_cnt = df_path_list_cnt.reset_index()\n",
    "# df_path_list_cnt = df_path_list_cnt.sort_values(by=['cnt'],ascending = False)\n",
    "# # df_path_list_cnt=df_path_list_cnt[df_path_list_cnt[\"cnt\"]<=100]\n",
    "# df_path_list_cnt=df_path_list_cnt[df_path_list_cnt[\"cnt\"]>2]\n",
    "\n",
    "# df_path_list_cnt.hist(\"cnt\",bins=100)\n",
    "# print(len(df_path_list_cnt))"
   ]
  },
  {
   "cell_type": "code",
   "execution_count": 8,
   "id": "c133815e-7657-4e72-8180-bcc9cff90dc8",
   "metadata": {},
   "outputs": [],
   "source": [
    "# 回头看，求得最后字典后，看字典中的pathlet有多少是之前的高频pathlet\n",
    "# cnt=0\n",
    "# df_path_list_cnt=df_path_list_cnt[df_path_list_cnt[\"cnt\"]>1]\n",
    "# rounded_list = list(pathlet_dictionary[pathlet_dictionary[\"cnt\"]>0][\"index\"])\n",
    "# from tqdm import tqdm\n",
    "# for p_id in tqdm(rounded_list):\n",
    "#     if p_id in list(df_path_list_cnt[\"index\"]):\n",
    "#         cnt+=1\n",
    "# print(cnt/len(rounded_list))\n",
    "    "
   ]
  },
  {
   "cell_type": "markdown",
   "id": "3db65ad1",
   "metadata": {},
   "source": [
    "0空间 与 QD规划"
   ]
  },
  {
   "cell_type": "code",
   "execution_count": 9,
   "id": "3ffa0e44",
   "metadata": {},
   "outputs": [],
   "source": [
    "# import torch\n",
    "# import numpy as np\n",
    "# # demo\n",
    "# A = D_tensor.double().cpu()\n",
    "# # A = torch.tensor([[1, 2, 3],[1, 2, 3]], dtype=torch.float64)\n",
    "# U, S, V  =torch.linalg.svd(A,full_matrices=True) \n",
    "# print(U.shape)\n",
    "# print(S.shape)\n",
    "# print(V.shape)\n",
    "\n",
    "# def get_full_diag_S(S,size):\n",
    "#     full_diag_S = torch.empty(size[0],size[1], dtype=S.dtype, device=S.device)\n",
    "#     S_full_list = S.cpu().numpy().tolist()\n",
    "#     for i in range(size[1]-len(S)):\n",
    "#         S_full_list.append(0)\n",
    "#     for i in range(len(S)):\n",
    "#         full_diag_S[i][i]=S[i]\n",
    "#     return full_diag_S,S_full_list\n",
    "\n",
    "\n",
    "# def get_null_space(A,U, S, V):\n",
    "#     tol = 1e-5\n",
    "#     zero_eigenvals = (S < tol).nonzero()[:, 0]\n",
    "#     print(zero_eigenvals)\n",
    "#     # zero_eigenvals = torch.tensor(list(range(3879,49097)))\n",
    "#     null_space = torch.empty(A.shape[1], len(zero_eigenvals), dtype=U.dtype, device=U.device)\n",
    "#     for i, idx in enumerate(zero_eigenvals):\n",
    "#         null_space[:, i] = (V.T)[:, idx]\n",
    "#     return null_space\n",
    "\n",
    "# full_diag_S,S_full_list = get_full_diag_S(S,A.shape)\n",
    "# # print(full_diag_S)\n",
    "# # print(S_full_list)\n",
    "\n",
    "# null_space  = get_null_space(A,U, torch.tensor(S_full_list), V)\n",
    "# # print(\"close enough between reconstruction result and raw matrix?\")\n",
    "# # close_res = np.isclose((U@ full_diag_S)@V.T, A,atol=0.1)\n",
    "# # close_res_cnt =0 \n",
    "# # for i in trange(close_res.shape[0]):\n",
    "# #     for j in range(close_res.shape[1]):\n",
    "# #         if close_res[i][j]==False:\n",
    "#             # close_res_cnt+=1\n",
    "# # print(close_res_cnt)\n",
    "# print(\"null space compute correct?\")\n",
    "# # print(A@null_space)\n",
    "# # A_mul_null_space = (A.cuda()@null_space.cuda()).cpu()\n",
    "# A_mul_null_space = (A@null_space).cpu()\n",
    "# print(\"---所有误差绝对值累计---\")\n",
    "# print(torch.norm(A_mul_null_space,1))\n",
    "# # close_res = np.isclose(A_mul_null_space, torch.zeros(A_mul_null_space.shape),atol=0.01)\n",
    "# # close_res_cnt =0 \n",
    "# # for i in trange(close_res.shape[0]):\n",
    "# #     for j in range(close_res.shape[1]):\n",
    "# #         if close_res[i][j]==False:\n",
    "# #             close_res_cnt+=1\n",
    "# # print(close_res_cnt)\n"
   ]
  },
  {
   "cell_type": "markdown",
   "id": "98d1b0c2",
   "metadata": {},
   "source": [
    "# 训练开始"
   ]
  },
  {
   "cell_type": "code",
   "execution_count": 10,
   "id": "baf62d25-14ea-428f-8e02-cfa2e3adb61b",
   "metadata": {},
   "outputs": [],
   "source": [
    "# # print('x.dtype: ',D_tensor.dtype)  # x的具体类型\n",
    "# # print('x.dtype: ',torch.zeros( m,n).dtype)  # x的具体类型\n",
    "# null_space=null_space.cuda()\n",
    "\n",
    "# R_tensor = torch.tensor(R).double().cuda()\n",
    "\n",
    "# R_tensor.requires_grad=True\n",
    "# if_subset=0\n",
    "# a = torch.sum(torch.max(R_tensor,1).values*(1-if_subset)).cuda()\n",
    "# b = 1*torch.norm(R_tensor,1).cuda()\n",
    "# res = (a+b)\n",
    "# print(res)\n",
    "\n",
    "# res.backward()\n",
    "# print(R_tensor.grad)\n",
    "\n",
    "# R_tensor.data = R_tensor.data- 0.001*null_space@null_space.T@R_tensor.grad"
   ]
  },
  {
   "cell_type": "code",
   "execution_count": 11,
   "id": "3526591c",
   "metadata": {},
   "outputs": [],
   "source": [
    "# from tensorboardX import SummaryWriter\n",
    "# def R_train2(null_space,initial_R,D_tensor,T_tensor,if_subset,num_of_subset,lambda_value,mu_value1,mu_value2,mu_value3,mu_value4,epoch_num,LR,gamma_value):\n",
    "#     # print(\"-------------------------------------------------lambda_value=\",lambda_value)\n",
    "#     writer = SummaryWriter('/root/tf-logs')\n",
    "#     R_tensor = initial_R.double().cuda()\n",
    "#     R_tensor.requires_grad=True\n",
    "    \n",
    "#     # scheduler_1 = StepLR(opt, step_size=100, gamma=gamma_value)\n",
    "#     diff_norm_num=1\n",
    "#     start_opt_rounding_ratio = 0.3\n",
    "#     # relu = torch.nn.ReLU()\n",
    "#     # loss_his = [[],[],[],[],[],[],[]]\n",
    "#     # real_mu_value1 = torch.ones(T_tensor.size()).cuda()\n",
    "#     # real_mu_value3 = torch.ones(1).cuda()\n",
    "    \n",
    "\n",
    "#     # real_mu_value1.requires_grad=True\n",
    "#     # real_mu_value3.requires_grad=True\n",
    "#     # opt  = torch.optim.Adam([R_tensor,real_mu_value1,real_mu_value3], lr=LR)\n",
    "#     # -------------------------start iteration------------------------------------- #\n",
    "#     null_space=null_space.cuda()\n",
    "\n",
    "#     R_tensor = torch.tensor(R).double().cuda()\n",
    "\n",
    "#     R_tensor.requires_grad=True\n",
    "#     if_subset=0\n",
    "#     a = torch.sum(torch.max(R_tensor,1).values*(1-if_subset)).cuda()\n",
    "#     b = 1*torch.norm(R_tensor,1).cuda()\n",
    "#     res = (a+b)\n",
    "#     print(res)\n",
    "\n",
    "#     res.backward()\n",
    "#     print(R_tensor.grad)\n",
    "\n",
    "#     R_tensor.data = R_tensor.data- 0.001*null_space@null_space.T@R_tensor.grad\n",
    "#     a = torch.sum(torch.max(R_tensor,1).values*(1-if_subset)).cuda()\n",
    "#     b = 1*torch.norm(R_tensor,1).cuda()\n",
    "#     res = (a+b)\n",
    "#     print(res)\n",
    "\n",
    "#     res.backward()\n",
    "#     print(R_tensor.grad)\n",
    "\n",
    "#     R_tensor.data = R_tensor.data- 0.001*null_space@null_space.T@R_tensor.grad\n",
    "#     print(\"0000\")\n",
    "#     for i in trange(epoch_num):\n",
    "#         # temp_tensor = (D_tensor@R_tensor - T_tensor).cuda()\n",
    "         \n",
    "#         a = torch.sum(torch.max(R_tensor,1).values*(1-if_subset)).cuda()\n",
    "#         b = lambda_value*torch.norm(R_tensor,1).cuda()\n",
    "        \n",
    "#         # mu = 0 invalidate these two terms\n",
    "#         # if mu_value1!=0:\n",
    "#         #     c =  mu_value1*(torch.norm((temp_tensor)*(temp_tensor),diff_norm_num)) \n",
    "#         #     # c = (real_mu_value1.mul(temp_tensor)).sum()\n",
    "#         # else:\n",
    "#         #     c = torch.zeros(1).cuda()\n",
    "#         # if mu_value2!=0:\n",
    "#         #     d =  mu_value2*( torch.norm(D_tensor@(R_tensor*(torch.ones(R_tensor.size()).cuda()-R_tensor)),diff_norm_num))\n",
    "#         # else:\n",
    "#         #     d = torch.zeros(1).cuda()        \n",
    "#         # # change the constraints\n",
    "#         # if mu_value3!=0:\n",
    "#         #     e = real_mu_value3*torch.norm(relu(-1*temp_tensor),1).cuda()\n",
    "#         # else:\n",
    "#         #     e = torch.zeros(1).cuda()\n",
    "#         # if mu_value4!=0:\n",
    "#         #     f = mu_value4*torch.norm(relu(1*temp_tensor),1).cuda()\n",
    "#         # else:\n",
    "#         #     f = torch.zeros(1).cuda()   \n",
    "            \n",
    "#         res = a+b\n",
    "#         # if i <epoch_num*0.1:\n",
    "#         # res = (a+b+c+d+e+f)\n",
    "#         # else:\n",
    "#             # res = (a+b+e+f)\n",
    "#         res.backward()\n",
    "#         # if i<1:\n",
    "#         #     print(i,\"a\"\"loss:\",res.data)\n",
    "#         R_tensor.data = R_tensor.data- LR*null_space@null_space.T@R_tensor.grad\n",
    "#         # opt.step()\n",
    "#         # R_tensor.data=torch.maximum(R_tensor, torch.zeros(R_tensor.size()).cuda()) \n",
    "#         # R_tensor.data=torch.minimum(R_tensor, torch.ones(R_tensor.size()).cuda()) \n",
    "        \n",
    "#         R_tensor=torch.clamp(R_tensor,0,1)\n",
    "#         # R_tensor.requires_grad=True\n",
    "#         # scheduler_1.step()\n",
    "#         # R_tensor.grad.zero_()\n",
    "#         # loss_his[0].append(res.cpu().data.numpy().round(1))\n",
    "#         # loss_his[1].append(a.cpu().data.numpy().round(1))\n",
    "#         # loss_his[2].append(torch.norm(R_tensor,1).cpu().data.numpy().round(1) )\n",
    "#         # # loss_his[3].append(c.item())\n",
    "#         # # loss_his[4].append(d.item())\n",
    "#         # loss_his[5].append(e.cpu().data.numpy().round(1))\n",
    "#         # loss_his[6].append(f.cpu().data.numpy().round(1))\n",
    "        \n",
    "#         # writer.add_scalar(\"all_loss\",res.cpu().data.numpy().round(1).item(),i) #日志中记录x在第step i 的值\n",
    "#         # writer.add_scalar(\"dict_size\",a.cpu().data.numpy().round(1).item(),i) #日志中记录y在第step i 的值\n",
    "#         # writer.add_scalar(\"representation_cost\",torch.norm(R_tensor,1).cpu().data.numpy().round(1) .item(),i) #日志中记录x在第step i 的值\n",
    "#         # writer.add_scalar(\"c\",c.cpu().data.numpy().round(1).item(),i) #日志中记录y在第step i 的值\n",
    "#         # writer.add_scalar(\"d\",d.cpu().data.numpy().round(1).item(),i) #日志中记录x在第step i 的值\n",
    "#         # writer.add_scalar(\"e\",e.cpu().data.numpy().round(1).item(),i) #日志中记录y在第step i 的值\n",
    "#         # writer.add_scalar(\"f\",f.cpu().data.numpy().round(1).item(),i) #日志中记录x在第step i 的值\n",
    "#         # writer.add_scalar(\"real_mu_value1\",real_mu_value1.sum().cpu().data.numpy().round(1).item(),i) #日志中记录x在第step i 的值\n",
    "#         # writer.add_scalar(\"real_mu_value3\",real_mu_value3.cpu().data.numpy().round(1).item(),i) #日志中记录x在第step i 的值\n",
    "#         # writer.add_scalar(\"num of uncover edges:\",torch.norm(relu(-1*temp_tensor),1).cuda().cpu().data.numpy().round(2).item(),i)\n",
    "#         # writer.add_scalar(\"num of overlap edges:\",torch.norm(relu(temp_tensor),1).cuda().cpu().data.numpy().round(2).item(),i)\n",
    "    \n",
    "\n",
    "#     # writer.close()\n",
    "#     # return loss_his,R_tensor,real_mu_value1\n"
   ]
  },
  {
   "cell_type": "code",
   "execution_count": 12,
   "id": "fa755d1b",
   "metadata": {},
   "outputs": [],
   "source": [
    "import copy\n",
    "\n",
    "initial_R = [\n",
    "    # torch.rand(len(path_list)+10,n).double(), # random初始化\n",
    "torch.from_numpy(R[:len(path_list)+10]), #全不分割初始化\n",
    "torch.zeros( m,n) #全0初始化\n",
    "]\n",
    "\n",
    "LR = 0.005\n",
    "epoch_num =2000\n",
    "final_loss = []\n",
    "R_list = []\n",
    "value_distribution_list = []\n",
    "R_tensor_nonzero_ratio = []\n",
    "\n",
    "subset=0\n",
    "num_of_subset=10000\n",
    "gamma_value=0.96\n"
   ]
  },
  {
   "cell_type": "code",
   "execution_count": 13,
   "id": "92d6955e-6d69-4c6f-bdba-33777aea733f",
   "metadata": {},
   "outputs": [
    {
     "name": "stdout",
     "output_type": "stream",
     "text": [
      "-------------------------------------------------lambda_value= 0\n"
     ]
    },
    {
     "name": "stderr",
     "output_type": "stream",
     "text": [
      "100%|██████████| 2000/2000 [35:37<00:00,  1.07s/it]\n"
     ]
    },
    {
     "name": "stdout",
     "output_type": "stream",
     "text": [
      "dict_size 7620.7998046875\n",
      "representation_cost 18430.400390625\n",
      "avg representation_cost 1.228693359375\n",
      "num of all edges: 107278.0\n",
      "num of uncover edges: 11554.7\n",
      "num of overlap edges: 39373.08\n",
      "uncover ratio: 0.11\n",
      "overlap ratio: 0.37\n"
     ]
    }
   ],
   "source": [
    "# mu_values_list = [[10,0,0,0],[10,10,0,0],[0,0,10,0],[0,0,10,10]]\n",
    "mu_values_list = [[1,1,0,0],[0,0,1,1]]\n",
    "mu_values_list = [[100,10,0,0]]\n",
    "mu_values = [0.51,0,0,0]\n",
    "# for mu_values in mu_values_list:\n",
    "# for la in [0,0.3,0.5,0.7]:\n",
    "la_list = [0,0.1,0.3,0.7,1,5]\n",
    "la_list=[0]\n",
    "for la in la_list:\n",
    "    loss_his,R_tensor,muvalue = R_train(initial_R[0],D_tensor.float().cuda(),T_tensor.float().cuda(),subset,num_of_subset,la,mu_values[0],mu_values[1],mu_values[2],mu_values[3],epoch_num,LR,gamma_value)\n",
    "    final_loss.append(loss_his)\n",
    "    \n",
    "    report_performance(D_tensor.cuda(),R_tensor.cuda(),T_tensor.cuda())\n",
    "    R_list.append(copy.deepcopy(R_tensor.cpu().detach().numpy()))\n",
    "# 是否只使用一部分的字典来重构轨迹数据集\n",
    "# 如果需要的话 需要改subset的值为1 同时注释 for control_lambda in control_lambda_list:\n",
    "#  这样的得到的结果就是当保留num_of_subset这么多pathlets的时候的性能\n",
    "# subset=1\n",
    "# num_of_subset = [100,200,300,500,1000,1500]\n",
    "# # if subset==1:\n",
    "# loss_subset_record = []\n",
    "# for i in num_of_subset:\n",
    "#     p_picked_index = list(pathlet_dictionary[\"index\"]) #这是被选中到字典中的p的index\n",
    "#     p_picked_index_subset = p_picked_index[:i]\n",
    "#     D_tensor_subset=torch.from_numpy(D[:len(edge_list)+10,:len(path_list)+10]).cuda()\n",
    "#     # D_tensor_test_zeros = copy.deepcopy(D_tensor)\n",
    "#     for j in range(D_tensor_subset.shape[1]):\n",
    "#         if j  not in p_picked_index_subset:\n",
    "#             D_tensor_subset[:,j]=0\n",
    "#     control_lambda=0.15*len(tras)\n",
    "#     la = control_lambda/len(tras)\n",
    "#     loss_his_subset,R_tensor_subset = R_train(initial_R[2],D_tensor_subset,T_tensor,subset,i,la,mu,epoch_num,LR,gamma_value)\n",
    "#     loss_subset_record.append(loss_his_subset)\n",
    "\n",
    "# diff datasets \n",
    "# diff lambda\n",
    "# diff theta   "
   ]
  },
  {
   "cell_type": "code",
   "execution_count": null,
   "id": "b68679f1",
   "metadata": {},
   "outputs": [],
   "source": [
    "# 这样的话可以让model在原先的基础上继续往下训练\n",
    "# epoch_num=500\n",
    "# for mu_values in mu_values_list:\n",
    "#     loss_his,R_tensor,muvalue = R_train(torch.tensor(R_list[0]),D_tensor.cuda(),T_tensor,subset,num_of_subset,la,mu_values[0],mu_values[1],mu_values[2],mu_values[3],epoch_num,LR,gamma_value)     \n",
    "#     final_loss.append(loss_his)\n",
    "#     R_list.append(copy.deepcopy(R_tensor.cpu().detach().numpy()))\n"
   ]
  },
  {
   "cell_type": "code",
   "execution_count": null,
   "id": "9b3033c1-c85c-4a2f-adbb-267ea8d66627",
   "metadata": {},
   "outputs": [],
   "source": [
    "# # 保存R——tensor 以便可以在另一台机器上进行可视化\n",
    "# for i in range(len(R_list)):\n",
    "#     target_save_R_tensor = R_list[i]\n",
    "#     torch.save(target_save_R_tensor, \"./R_tensor_\"+raw_tras_name+str(mu_values_list[i])+str(la)+\"_.pt\")"
   ]
  },
  {
   "cell_type": "code",
   "execution_count": null,
   "id": "45fbb80f-82ca-4a82-879d-45208cd724dc",
   "metadata": {},
   "outputs": [],
   "source": [
    "# R_list=[]\n",
    "# for i in range(len(mu_values_list)):\n",
    "#     R_list.append(torch.load(\"./R_tensor_\"+raw_tras_name+str(mu_values_list[i])+\".pt\"))"
   ]
  },
  {
   "cell_type": "markdown",
   "id": "68d0fc25",
   "metadata": {},
   "source": [
    "# 开始随机rounding，输出的结果为R_tensor_rounding，并且获得字典"
   ]
  },
  {
   "cell_type": "code",
   "execution_count": 14,
   "id": "0c723e80",
   "metadata": {},
   "outputs": [
    {
     "name": "stdout",
     "output_type": "stream",
     "text": [
      "0\n",
      "rounding procedure start\n"
     ]
    },
    {
     "name": "stderr",
     "output_type": "stream",
     "text": [
      "100%|██████████| 15071/15071 [12:18<00:00, 20.42it/s]\n"
     ]
    },
    {
     "name": "stdout",
     "output_type": "stream",
     "text": [
      "rounding procedure end\n",
      "loss compute start\n",
      "dict_size 12074.0\n",
      "representation_cost 36342.0\n",
      "avg representation_cost 2.4228\n",
      "num of all edges: 107278.0\n",
      "num of uncover edges: 352.0\n",
      "num of overlap edges: 94814.0\n",
      "uncover ratio: 0.0\n",
      "overlap ratio: 0.88\n",
      "loss compute end\n",
      "compute dictionary start\n"
     ]
    },
    {
     "name": "stderr",
     "output_type": "stream",
     "text": [
      "100%|██████████| 15071/15071 [00:00<00:00, 544408.46it/s]"
     ]
    },
    {
     "name": "stdout",
     "output_type": "stream",
     "text": [
      "compute dictionary end\n"
     ]
    },
    {
     "name": "stderr",
     "output_type": "stream",
     "text": [
      "\n"
     ]
    }
   ],
   "source": [
    "import copy\n",
    "# R_list.append(copy.deepcopy(R_tensor.cpu().detach().numpy()))\n",
    "import math\n",
    "# 随机rounding\n",
    "from scipy.stats import bernoulli\n",
    "# wuwu_list = [0.1,0.2,0.3,0.4,0.5,0.6,0.7,0.8,0.9,1.0,1.1,1.2,1.3,1.4,1.5]\n",
    "wuwu_list = [0.8,0.9,1,1.1,1.2,1.3,1.4,1.5,1.6,1.7]\n",
    "wuwu_list =[1]\n",
    "# for wuwu in wuwu_list:\n",
    "cnt=0\n",
    "pathlet_dictionary_list=[]\n",
    "rounding_loss_under_las = []\n",
    "repeated_rounding_num=1\n",
    "rounded_R_tensor_list = [] \n",
    "iterate_cnt=0\n",
    "for R_data_load in R_list[:]:\n",
    "    print(iterate_cnt)\n",
    "    iterate_cnt+=1\n",
    "    rounding_loss=[[],[],[],[],[],[],[]]\n",
    "    print(\"rounding procedure start\")\n",
    "    if 1:\n",
    "        wuwu=1\n",
    "        wuwu=math.log(2*torch.norm(T_tensor,1).cpu().data.numpy().round(1))*0.39\n",
    "        R_data_star = copy.deepcopy(R_data_load)\n",
    "        # R_data = copy.deepcopy(R_data_load)\n",
    "        R_data = np.zeros((R_data_star.shape[0],R_data_star.shape[1],repeated_rounding_num))\n",
    "        for i in trange(R_data_star.shape[0]):\n",
    "            for j in range(R_data_star.shape[1]):\n",
    "                if(R_data_star[i][j]>0.03):\n",
    "                    R_data[i][j][:] = bernoulli.rvs(size=repeated_rounding_num,p=min(1,wuwu*R_data_star[i][j]))\n",
    "                else:\n",
    "                    R_data[i][j]=0\n",
    "        # .data = R_data_load\n",
    "    print(\"rounding procedure end\")\n",
    "    print(\"loss compute start\")\n",
    "    R_data_tensor = torch.from_numpy(R_data)\n",
    "    relu = torch.nn.ReLU().cuda()\n",
    "    if_subset=0\n",
    "    diff_norm_num=2\n",
    "    for ite in range(repeated_rounding_num):\n",
    "        R_tensor_rounding = R_data_tensor[:,:,ite].cuda().float()\n",
    "        # print(\"-------------------------------\")\n",
    "        # print(\"wuwu:\",wuwu)\n",
    "        report_performance(D_tensor.cuda(),R_tensor_rounding.cuda(),T_tensor.cuda())\n",
    "        # rounding_loss[0].append((a+b+c+d+e+f).cpu().data.numpy().round(1))\n",
    "        # rounding_loss[1].append(a.cpu().data.numpy().round(1))\n",
    "        # rounding_loss[2].append(b.cpu().data.numpy().round(1))\n",
    "        # rounding_loss[3].append(c.cpu().data.numpy().round(1))\n",
    "        # rounding_loss[4].append(d.cpu().data.numpy().round(1))\n",
    "        # rounding_loss[5].append(e.cpu().data.numpy().round(1))\n",
    "        # rounding_loss[6].append(f.cpu().data.numpy().round(1))\n",
    "    # rounding_loss_under_las.append(rounding_loss)\n",
    "    print(\"loss compute end\")\n",
    "    print(\"compute dictionary start\")\n",
    "# if 1:\n",
    "    # 根据R_tensor_rounding计算每一个pathlet被用到的次数，并查询得到每一个path的长度\n",
    "    path_list_len = len(path_list)\n",
    "    path_list_cnt = np.zeros((path_list_len+10,3))\n",
    "    R_size = R_tensor_rounding.size()\n",
    "    pathlet_cnt = torch.sum(R_tensor_rounding, dim=1).cpu().numpy().round(1)\n",
    "    for i in trange(R_size[0]):\n",
    "        path_list_cnt[i][0]=i\n",
    "        path_list_cnt[i][1]=pathlet_cnt[i]\n",
    "        if i <path_list_len:\n",
    "            path_list_cnt[i][2]=len(path_list[i])\n",
    "\n",
    "    # 获得字典\n",
    "    path_list_cnt_df = pd.DataFrame(path_list_cnt,columns=[\"index\",\"cnt\",'len'])\n",
    "    pathlet_dictionary = path_list_cnt_df[path_list_cnt_df[\"cnt\"]>0].sort_values(by=['cnt'],ascending = False)\n",
    "     \n",
    "    pathlet_dictionary_list.append(pathlet_dictionary)\n",
    "    print(\"compute dictionary end\")\n",
    "    rounded_R_tensor_list.append(R_data_tensor)\n",
    "\n"
   ]
  },
  {
   "cell_type": "code",
   "execution_count": 15,
   "id": "45b9859b-16c4-4b0e-90ce-47641163c837",
   "metadata": {},
   "outputs": [],
   "source": [
    "for i in range(len(rounded_R_tensor_list)):\n",
    "    target_save_R_tensor = rounded_R_tensor_list[i]\n",
    "    torch.save(target_save_R_tensor, \"./R_tensor_rounded_\"+raw_tras_name+str(mu_values_list[i])+str(i)+\"_.pt\")\n",
    "# torch.save(R_tensor_rounding, \"./R_tensor_rounding_\"+raw_tras_name+\".pt\")"
   ]
  },
  {
   "cell_type": "markdown",
   "id": "7f2b920e",
   "metadata": {},
   "source": [
    "# 绘制各种分析曲线"
   ]
  },
  {
   "cell_type": "markdown",
   "id": "6853604d",
   "metadata": {},
   "source": [
    "当只使用一部分的pathlet时观察重构率"
   ]
  },
  {
   "cell_type": "code",
   "execution_count": null,
   "id": "03375b8f",
   "metadata": {},
   "outputs": [],
   "source": [
    "# 绘图：当只使用一部分的pathlet时观察重构率\n",
    "# 需要配合训练时使用subset参数\n",
    "(loss_subset_record[0][0][-1])\n",
    "average_pathlet_list = []\n",
    "uncover_list = []\n",
    "for i in range(6):\n",
    "    average_pathlet_list.append([loss_subset_record[i][2][-1],num_of_subset[i]])\n",
    "    uncover_list.append([loss_subset_record[i][5][-1],num_of_subset[i]])\n",
    "average_pathlet_df=pd.DataFrame(average_pathlet_list,columns=[\"average_pathlet\",\"num_of_subset\"])\n",
    "uncover_df=pd.DataFrame(uncover_list,columns=[\"uncover\",\"num_of_subset\"])\n",
    "average_pathlet_df[\"index\"]=average_pathlet_df.index\n",
    "uncover_df[\"index\"]=uncover_df.index\n",
    "average_pathlet_df[\"average_pathlet\"]=average_pathlet_df[\"average_pathlet\"]/len(tras)\n",
    "uncover_df[\"uncover\"]=uncover_df[\"uncover\"]/(len(tras)*10)\n",
    "uncover_df[\"uncover_ratio\"]=uncover_df[\"uncover\"]/(20)\n",
    "sns.set_theme(style=\"darkgrid\")\n",
    "\n",
    "f, axs = plt.subplots(1, 2, figsize=(12, 3))\n",
    "sns.lineplot(x=\"num_of_subset\", y=\"average_pathlet\",\n",
    "                data=average_pathlet_df,label=\"average_pathlet\",ax = axs[0])\n",
    "ax = fig.add_subplot(122)\n",
    "sns.lineplot(x=\"num_of_subset\", y=\"uncover_ratio\",\n",
    "                data=uncover_df,label=\"uncover_ratio\",ax = axs[1])"
   ]
  },
  {
   "cell_type": "markdown",
   "id": "51989310",
   "metadata": {},
   "source": [
    "## 观察不同la下的情况"
   ]
  },
  {
   "cell_type": "code",
   "execution_count": 26,
   "id": "7fcb7f30",
   "metadata": {},
   "outputs": [
    {
     "data": {
      "text/plain": [
       "6"
      ]
     },
     "execution_count": 26,
     "metadata": {},
     "output_type": "execute_result"
    }
   ],
   "source": [
    "len(final_loss)"
   ]
  },
  {
   "cell_type": "code",
   "execution_count": 28,
   "id": "1d8e55cc",
   "metadata": {},
   "outputs": [
    {
     "name": "stderr",
     "output_type": "stream",
     "text": [
      "100%|██████████| 5000/5000 [00:00<00:00, 14078.19it/s]\n",
      "100%|██████████| 5000/5000 [00:00<00:00, 13923.48it/s]\n"
     ]
    },
    {
     "data": {
      "image/png": "[encoded data removed]",
      "text/plain": [
       "<Figure size 720x432 with 2 Axes>"
      ]
     },
     "metadata": {},
     "output_type": "display_data"
    }
   ],
   "source": [
    "# 观察不同lambda下各项指标变化情况\n",
    "label_list = [\"all_loss\",\"dict_size\",\"average_pathlet\",\"uncover\",\"uncover\",\"uncover\",\"uncover\"]\n",
    "\n",
    "# for loss_index in [2]:\n",
    "if 1:\n",
    "    loss_index=1\n",
    "    for i in range(len(final_loss)-1):\n",
    "        if i ==0:\n",
    "            plot_data=final_loss[i][loss_index]#[-1:]\n",
    "        else:\n",
    "            plot_data=plot_data+final_loss[i][loss_index]#[-1:]\n",
    "    all_loss_df = pd.DataFrame(plot_data,columns=[label_list[loss_index]])\n",
    "    if loss_index==2:\n",
    "        all_loss_df[\"average_pathlet\"]=all_loss_df[\"average_pathlet\"]/len(tras)\n",
    "    all_loss_df[\"index\"]=all_loss_df.index\n",
    "    all_loss_df[\"la\"]=all_loss_df[\"index\"]//epoch_num\n",
    "    all_loss_df[\"la_value\"] = all_loss_df[\"la\"]\n",
    "    for i in trange(len(all_loss_df)):\n",
    "        all_loss_df[\"la_value\"][i] = la_list[int(all_loss_df[\"la\"][i])]\n",
    "\n",
    "    # g=sns.lineplot(x=\"la_value\", y=label_list[loss_index],\n",
    "    #             data=all_loss_df,label=label_list[loss_index])\n",
    "    # g.set(xlim=(7000,10500),ylim=(0,1500))\n",
    "#绘制基础图层\n",
    "sns.set_theme(style=\"white\")\n",
    "fig, ax1 = plt.subplots(figsize=(10,6))\n",
    "color = 'tab:blue'\n",
    "ax1.set_title('Statistics under different lambda', fontsize=16)\n",
    "ax1.set_xlabel('lambda', fontsize=16)\n",
    "ax1.set_ylabel('Dictionary Size', fontsize=16, color=color)\n",
    "# 第一图条形图\n",
    "ax1 =sns.lineplot(x=\"la_value\", y=label_list[loss_index],\n",
    "                data=all_loss_df,label=label_list[loss_index])\n",
    "ax1.tick_params(axis='y')\n",
    "\n",
    "plt.legend(labels = ['Dictionary Size'],loc = 0, bbox_to_anchor = (1,0.9))\n",
    "# -------------------\n",
    "if 1:\n",
    "    loss_index=2\n",
    "    for i in range(len(final_loss)-1):\n",
    "        if i ==0:\n",
    "            plot_data=final_loss[i][loss_index]#[-1:]\n",
    "        else:\n",
    "            plot_data=plot_data+final_loss[i][loss_index]#[-1:]\n",
    "    all_loss_df = pd.DataFrame(plot_data,columns=[label_list[loss_index]])\n",
    "    if loss_index==2:\n",
    "        all_loss_df[\"average_pathlet\"]=all_loss_df[\"average_pathlet\"]/len(tras)\n",
    "\n",
    "    all_loss_df[\"index\"]=all_loss_df.index\n",
    "    all_loss_df[\"la\"]=all_loss_df[\"index\"]//epoch_num\n",
    "    \n",
    "    all_loss_df[\"la_value\"] = all_loss_df[\"la\"]\n",
    "    for i in trange(len(all_loss_df)):\n",
    "        all_loss_df[\"la_value\"][i] = la_list[int(all_loss_df[\"la\"][i])]\n",
    "        \n",
    "# sns.set_theme(style=\"whitegrid\")\n",
    "ax2 = ax1.twinx()\n",
    "color = 'tab:purple'\n",
    "#第二个图，折线图\n",
    "ax2.set_ylabel('Avg Pathlets', fontsize=16, color=color)\n",
    "ax2 = sns.lineplot(x=\"la_value\", y=label_list[loss_index],\n",
    "                data=all_loss_df,label=label_list[loss_index],color=color)\n",
    "plt.legend(labels = ['Avg Pathlets'],loc = 1, bbox_to_anchor = (1,0.8))\n",
    "ax2.tick_params(axis='y', color=color)\n",
    "# plt.legend(labels = [label_list[1],label_list[2]],loc = 0, bbox_to_anchor = (1,0.9))\n",
    "# #显示绘制结果\n",
    "plt.show()"
   ]
  },
  {
   "cell_type": "code",
   "execution_count": 29,
   "id": "1a84c6fe",
   "metadata": {},
   "outputs": [
    {
     "data": {
      "image/png": "[encoded data removed]",
      "text/plain": [
       "<Figure size 432x288 with 1 Axes>"
      ]
     },
     "metadata": {},
     "output_type": "display_data"
    }
   ],
   "source": [
    "# rounding之后 绘制不同la下各项指标的变化\n",
    "import seaborn as sns\n",
    "sns.set_theme(style=\"darkgrid\")\n",
    "loss_index = 3\n",
    "label_list = [\"all_loss\",\"dict_size\",\"represent cost\",\"represent loss\"]\n",
    "for loss_index in [2]:\n",
    "    for i in range(len(rounding_loss_under_las)):\n",
    "        if i ==0:\n",
    "            plot_data=rounding_loss_under_las[i][loss_index]\n",
    "        else:\n",
    "            plot_data=plot_data+rounding_loss_under_las[i][loss_index]\n",
    "            \n",
    "    all_loss_df = pd.DataFrame(plot_data,columns=[label_list[loss_index]])\n",
    "    all_loss_df[\"index\"]=all_loss_df.index\n",
    "    all_loss_df[\"la\"]=all_loss_df[\"index\"]//10\n",
    "    if loss_index==2:\n",
    "        all_loss_df[\"represent cost\"]=all_loss_df[\"represent cost\"]/len(tras)\n",
    "    \n",
    "    sns.lineplot(x=\"la\", y=label_list[loss_index],\n",
    "                data=all_loss_df,label=label_list[loss_index])\n",
    "    # print(plot_data)\n",
    "# 0.3的时候结果稍有点奇怪 所以换0.1再试一下\n",
    "\n"
   ]
  },
  {
   "cell_type": "code",
   "execution_count": 17,
   "id": "7e293dcb",
   "metadata": {},
   "outputs": [],
   "source": [
    "\n",
    "# a=np.array(rounding_loss_under_las,dtype=object)\n",
    "# np.save('rounding_loss_under_las.npy',a)   # 保存为.npy格式"
   ]
  },
  {
   "cell_type": "code",
   "execution_count": 125,
   "id": "6043775f",
   "metadata": {},
   "outputs": [],
   "source": [
    "# 为rounding后得到的字典打上la的标签 方便下一步绘制不同la下pathlet分布的变化\n",
    "pathlet_dictionary_list_labeled = pathlet_dictionary_list[0]\n",
    "for pathlet_dictionary_index in range(1,len(pathlet_dictionary_list)):\n",
    "    pathlet_dictionary_temp = pathlet_dictionary_list[pathlet_dictionary_index]\n",
    "    pathlet_dictionary_temp[\"la_labeled\"]=int(control_lambda_list[pathlet_dictionary_index])\n",
    "    \n",
    "    pathlet_dictionary_list_labeled = pd.concat([pathlet_dictionary_list_labeled,pathlet_dictionary_temp],axis=0)\n",
    "pathlet_dictionary_list_labeled_cnt1 = pathlet_dictionary_list_labeled[pathlet_dictionary_list_labeled[\"cnt\"]>1]\n",
    "pathlet_dictionary_list_labeled_cnt1\n",
    "pathlet_dictionary_list_labeled_cnt1[pathlet_dictionary_list_labeled_cnt1[\"la_labeled\"]>=30].mean()\n",
    "sns.displot(pathlet_dictionary_list_labeled[pathlet_dictionary_list_labeled[\"la_labeled\"]>=30], x=\"len\", kind=\"kde\", fill=False)\n",
    "# sns.displot(pathlet_dictionary_list_labeled[pathlet_dictionary_list_labeled[\"la_labeled\"]==8], x=\"len\",  kind=\"kde\", fill=False)"
   ]
  },
  {
   "cell_type": "code",
   "execution_count": null,
   "id": "dea8e4f6",
   "metadata": {},
   "outputs": [],
   "source": [
    "# 绘制不同la下pathlet分布的变化\n",
    "fig = plt.figure(figsize=(18, 4), dpi=100)\n",
    "\n",
    "ax1 = fig.add_subplot(151)\n",
    "ax1.set(ylim=[-1.5,3000])\n",
    "plt.xlabel('len of pathlet')  \n",
    "plt.ylabel('num of pathlet')   \n",
    "pathlet_dictionary_list[0][\"len\"].hist(bins=10,alpha = 1)\n",
    "\n",
    "# ax2 = fig.add_subplot(152)\n",
    "# ax2.set(ylim=[-1.5,3000]) \n",
    "# pathlet_dictionary_list[1][\"len\"].hist(bins=10,alpha = 1)\n",
    "\n",
    "# ax3 = fig.add_subplot(153)\n",
    "# ax3.set(ylim=[-1.5,900])\n",
    "# pathlet_dictionary_list[2][\"len\"].hist(bins=10,alpha = 1)\n",
    "\n",
    "# ax4 = fig.add_subplot(154)\n",
    "# ax4.set(ylim=[-1.5,900])\n",
    "# pathlet_dictionary_list[3][\"len\"].hist(bins=10,alpha = 1)\n",
    "\n",
    "# ax4 = fig.add_subplot(155)\n",
    "# ax4.set(ylim=[-1.5,900])\n",
    "# pathlet_dictionary_list[4][\"len\"].hist(bins=10,alpha = 1)\n",
    "\n",
    "# plt.xlabel('len of pathlet')  \n",
    "# plt.ylabel('num of pathlet')   \n",
    "# plt.legend(['10', '60'])\n",
    "plt.show()  "
   ]
  },
  {
   "cell_type": "code",
   "execution_count": 3,
   "id": "71f099a4",
   "metadata": {},
   "outputs": [
    {
     "data": {
      "text/plain": [
       "<AxesSubplot:xlabel='lambda'>"
      ]
     },
     "execution_count": 3,
     "metadata": {},
     "output_type": "execute_result"
    },
    {
     "data": {
      "image/png": "[encoded data removed]",
      "text/plain": [
       "<Figure size 1440x360 with 4 Axes>"
      ]
     },
     "metadata": {
      "needs_background": "light"
     },
     "output_type": "display_data"
    }
   ],
   "source": [
    "# # # 绘制不同la下字典大小和表达成本的变化\n",
    "# import matplotlib.pyplot as plt\n",
    "# import pandas as pd\n",
    "# fig, axes = plt.subplots(nrows=1, ncols=4,figsize=(20, 5))\n",
    "# res = [[10,910.0,1120],[60,865,601],[100,797,442],[150,730,351],[200,698,291]]\n",
    "# df_res_record_con = pd.DataFrame(res,columns=[\"lambda\",\"dict_num\",\"average_represent_loss\"])\n",
    "# df_res_record_con.plot(x=\"lambda\",y=[\"dict_num\"],ax=axes[0])\n",
    "# df_res_record_con.plot(x=\"lambda\",y=[\"average_represent_loss\"],ax=axes[1])\n"
   ]
  },
  {
   "cell_type": "code",
   "execution_count": 19,
   "id": "71af0689",
   "metadata": {},
   "outputs": [
    {
     "data": {
      "text/plain": [
       "<AxesSubplot:>"
      ]
     },
     "execution_count": 19,
     "metadata": {},
     "output_type": "execute_result"
    },
    {
     "data": {
      "image/png": "[encoded data removed]",
      "text/plain": [
       "<Figure size 432x288 with 1 Axes>"
      ]
     },
     "metadata": {
      "needs_background": "light"
     },
     "output_type": "display_data"
    }
   ],
   "source": [
    "# 查看轨迹数目与用到的pathlet的数量的分布\n",
    "df = pd.DataFrame(list(R_tensor_rounding.sum(0).cpu().numpy().round(1)),columns=['cnt'])\n",
    "df.head()\n",
    "df[\"cnt\"].hist(bins=50)\n",
    "# plt.xlabel('len of pathlet')  \n",
    "# plt.ylabel('num of pathlet') "
   ]
  },
  {
   "cell_type": "markdown",
   "id": "4b05506b",
   "metadata": {},
   "source": [
    "## 如何使用字典表达test轨迹"
   ]
  },
  {
   "cell_type": "code",
   "execution_count": null,
   "id": "cd43db58",
   "metadata": {},
   "outputs": [],
   "source": [
    "# 生成测试集的T矩阵\n",
    "# tras_test = all_tras[100:200]\n",
    "\n",
    "T_test = np.zeros((len(edge_list)+10, len(tras_test))) \n",
    "print(T_test.shape)\n",
    "tra_index = 0\n",
    "for i in trange(len(tras_test)):\n",
    "    tra = tras_test[i]\n",
    "    for edge in tra:\n",
    "        T_test[edge_list.index(edge)][tra_index] = 1\n",
    "    tra_index+=1\n",
    "T_tensor_test=torch.from_numpy(T_test).cuda()\n",
    "torch.norm(T_tensor_test,1)"
   ]
  },
  {
   "cell_type": "code",
   "execution_count": 23,
   "id": "00c732fb",
   "metadata": {},
   "outputs": [],
   "source": [
    "# #the distribution of the num of edges pre tra\n",
    "# tra_len=[]\n",
    "# all_len=0\n",
    "# for i in trange(len(tras_test)):\n",
    "#     tra_len.append( len( tras_test[i]))\n",
    "#     all_len+=len( tras_test[i])\n",
    "# pd.DataFrame(tra_len,columns=[\"len\"])[\"len\"].hist(bins=20)\n",
    "# plt.title(\"the distribution of the num of edges pre tra\")\n",
    "# print(all_len/100)"
   ]
  },
  {
   "cell_type": "code",
   "execution_count": null,
   "id": "d3023e9f",
   "metadata": {},
   "outputs": [],
   "source": [
    "\n",
    "for pathlet_dictionary in pathlet_dictionary_list:\n",
    "    # 首先获得一个比较小的D和R\n",
    "    p_picked_index = list(pathlet_dictionary[\"index\"]) #这是被选中到字典中的p的index\n",
    "    D_tensor_test = copy.deepcopy(D_tensor)\n",
    "    D_tensor_test = D_tensor_test[:,p_picked_index]\n",
    "    D_tensor_test.shape\n",
    "    \n",
    "\n",
    "    control_lambda_list = [10,60,100,150,200]\n",
    "    control_lambda_list = [10,60]\n",
    "    control_lambda_list = [0.3*len(tras_test)]\n",
    "    initial_R = [\n",
    "    torch.from_numpy(np.zeros(( len(list(pathlet_dictionary[\"index\"])),len(tras_test)))) #全0初始化\n",
    "    ]\n",
    "    LR = 0.05\n",
    "    final_loss = []\n",
    "    epoch_num =5000\n",
    "    value_distribution_list = []\n",
    "    R_tensor_nonzero_ratio = []\n",
    "    for control_lambda in control_lambda_list:\n",
    "        la = control_lambda/len(tras_test)\n",
    "        mu= 2000/len(tras_test)\n",
    "        mu=0\n",
    "        R_tensor_test = initial_R[0].cuda()\n",
    "        # for R_tensor in  initial_R:\n",
    "        R_tensor_test.requires_grad=True\n",
    "        loss_his = [[],[],[],[],[],[],[]]\n",
    "        opt  = torch.optim.Adam([R_tensor_test], lr=LR)\n",
    "        scheduler_1 = StepLR(opt, step_size=100, gamma=0.95)\n",
    "        diff_norm_num=1\n",
    "        start_opt_rounding_ratio = 0.3\n",
    "        for i in trange(epoch_num):\n",
    "            temp_tensor = (D_tensor_test@R_tensor_test - T_tensor_test).cuda()\n",
    "            \n",
    "            a = torch.sum(torch.max(R_tensor_test,1).values).cuda()\n",
    "            b = la*torch.norm(R_tensor_test,1) .cuda()\n",
    "            c =  mu*(torch.norm((temp_tensor)*(temp_tensor),diff_norm_num)) .cuda()\n",
    "            d =  mu*( torch.norm(D_tensor_test@(R_tensor_test*(torch.ones(R_tensor_test.size()).cuda()-R_tensor_test)),diff_norm_num)).cuda()\n",
    "            # print(a,b,c,d)\n",
    "            e = 10*torch.norm(relu(-1*temp_tensor),1)\n",
    "            f = 1*torch.norm(relu(1*temp_tensor),1)\n",
    "            res = (b+e).cuda()\n",
    "            res.backward()\n",
    "            # opt = torch.optim.SGD([R_tensor], lr=LR)\n",
    "            opt.step()\n",
    "            # R_tensor.data -= alpha*R_tensor.grad\n",
    "            R_tensor_test.data=torch.maximum(R_tensor_test, torch.zeros(R_tensor_test.size()).cuda()) \n",
    "            R_tensor_test.data=torch.minimum(R_tensor_test, torch.ones(R_tensor_test.size()).cuda()) \n",
    "            # print(i,opt.param_groups[0]['lr'])\n",
    "            # print(res)\n",
    "            loss_his[0].append(res.item())\n",
    "            loss_his[1].append(a.item())\n",
    "            loss_his[2].append(b.item() )\n",
    "            # loss_his[3].append(c.item())\n",
    "            # loss_his[4].append(d.item())\n",
    "            loss_his[5].append(e.item())\n",
    "            loss_his[6].append(f.item())\n",
    "            R_tensor_nonzero_ratio.append(torch.count_nonzero(R_tensor_test).item()/(R_tensor_test.size()[0]*R_tensor_test.size()[1]))\n",
    "            scheduler_1.step()\n",
    "            R_tensor_test.grad.zero_()\n",
    "\n",
    "            if i%500==0:\n",
    "                print(\"---all-loss:\",(b+e).cpu().data.numpy().round(1),\\\n",
    "                    \"--- dict num(max):\",a.cpu().data.numpy().round(1) , \\\n",
    "                    \"---average represent cost:\",b.cpu().data.numpy().round(1)/n , \\\n",
    "                    # \"---reconstruct error:\",    mu*torch.norm((D_tensor@R_tensor - T_tensor)*(D_tensor@R_tensor - T_tensor),diff_norm_num).cpu().data.numpy().round(1), \\\n",
    "                    # \"---rounding error:\",    d.cpu().data.numpy().round(1)    )\n",
    "                    \"---reconstruct error:\",    e.cpu().data.numpy().round(1) ,\\\n",
    "                    \"---overlap error:\",    f.cpu().data.numpy().round(1)       )\n",
    "                    \n",
    "        final_loss.append(loss_his)"
   ]
  },
  {
   "cell_type": "code",
   "execution_count": 31,
   "id": "9b32ed7f",
   "metadata": {},
   "outputs": [
    {
     "name": "stderr",
     "output_type": "stream",
     "text": [
      "100%|██████████| 22282/22282 [02:20<00:00, 158.62it/s]"
     ]
    },
    {
     "name": "stdout",
     "output_type": "stream",
     "text": [
      "-------------------------------\n",
      "wuwu: 9.937309101011639\n",
      "---all-loss: 14263.8 --- dict num(max): 9995.0 ---average represent cost: 4.75565509518477 ---reconstruct error: 22.0\n"
     ]
    },
    {
     "name": "stderr",
     "output_type": "stream",
     "text": [
      "\n"
     ]
    }
   ],
   "source": [
    "# 随机rounding\n",
    "from scipy.stats import bernoulli\n",
    "\n",
    "cnt=0\n",
    "\n",
    "pathlet_dictionary_list=[]\n",
    "# for R_data_load in R_list[:]:\n",
    "if 1:\n",
    "    wuwu=1\n",
    "    wuwu=math.log(torch.norm(T_tensor,1).cpu().data.numpy().round(1))\n",
    "    R_data_star = copy.deepcopy(R_tensor_test)\n",
    "    R_data = copy.deepcopy(R_tensor_test)\n",
    "    R_data.requires_grad=False\n",
    "    for i in trange(R_data_star.shape[0]):\n",
    "        for j in range(R_data_star.shape[1]):\n",
    "            if(R_data_star[i][j]>0.001):\n",
    "                R_data[i][j] = bernoulli.rvs(size=1,p=min(1,wuwu*R_data_star[i][j].cpu().detach().numpy()))[0]\n",
    "            else:\n",
    "                R_data[i][j]=0\n",
    "    # .data = R_data_load\n",
    "    R_tensor_rounding = R_data.cuda()\n",
    "    print(\"-------------------------------\")\n",
    "    print(\"wuwu:\",wuwu)\n",
    "    temp_tensor = (D_tensor_test@R_tensor_rounding - T_tensor_test).cuda()\n",
    "    a = torch.sum(torch.max(R_tensor_rounding,1).values).cuda()\n",
    "    b = la*torch.norm(R_tensor_rounding,1) .cuda()\n",
    "    e = torch.norm(relu(-1*temp_tensor),1)\n",
    "    print(\"---all-loss:\",(a+b+e).cpu().data.numpy().round(1),\\\n",
    "        \"--- dict num(max):\",a.cpu().data.numpy().round(1) , \\\n",
    "        \"---average represent cost:\",b.cpu().data.numpy().round(1)/n , \\\n",
    "        # \"---reconstruct error:\",    mu*torch.norm((D_tensor@R_tensor - T_tensor)*(D_tensor@R_tensor - T_tensor),diff_norm_num).cpu().data.numpy().round(1), \\\n",
    "        # \"---rounding error:\",    d.cpu().data.numpy().round(1)    )\n",
    "        \"---reconstruct error:\",    e.cpu().data.numpy().round(1)    )\n"
   ]
  },
  {
   "cell_type": "code",
   "execution_count": null,
   "id": "7f026b1d",
   "metadata": {},
   "outputs": [],
   "source": []
  },
  {
   "cell_type": "markdown",
   "id": "e12faf04",
   "metadata": {},
   "source": [
    "直接无脑运行到这里"
   ]
  },
  {
   "cell_type": "code",
   "execution_count": null,
   "id": "edebb564",
   "metadata": {},
   "outputs": [
    {
     "data": {
      "text/plain": [
       "Text(0.5, 1.0, 'average represent cost')"
      ]
     },
     "metadata": {},
     "output_type": "display_data"
    },
    {
     "data": {
      "image/png": "[encoded data removed]",
      "text/plain": [
       "<Figure size 500x300 with 1 Axes>"
      ]
     },
     "metadata": {},
     "output_type": "display_data"
    }
   ],
   "source": [
    "# 综合性能绘图\n",
    "performance = [[0, 1658.691, 3.38,0.91,3.62],\n",
    " [0.1, 1697.415, 3.1,0.79,3.28],\n",
    " [0.3, 1684.31, 2.68,0.58,2.79],\n",
    " [0.5, 1654.858, 2.4090,0.55,2.54],\n",
    " [0.8, 1606.441, 2.146,0.61,2.31]]\n",
    "df_res_record = pd.DataFrame(performance,columns=[\"lambda\",\"dict_num\",\"train\",\"average reconstruction cost\",\"test\"])\n",
    "\n",
    "fig = plt.figure(figsize=(5, 3), dpi=100)\n",
    "# ax1 = fig.add_subplot(121)\n",
    "# ax1.set(ylim=[1,4])\n",
    "# df_res_record.plot(x=\"lambda\",y=[\"average represent cost\"],marker='o',ax=ax1)\n",
    "# # ax2 = fig.add_subplot(122)\n",
    "# # ax2.set(ylim=[-1.5,3000])\n",
    "# # df_res_record.plot(x=\"lambda\",y=[\"dict_num\"],marker='o',ax=ax2)\n",
    "\n",
    "ax2 = fig.add_subplot(111)\n",
    "ax2.set(ylim=[0,5])\n",
    "df_res_record.plot(x=\"lambda\",y=[\"train\"],marker='o',ax=ax2)\n",
    "df_res_record.plot(x=\"lambda\",y=[\"test\"],marker='o',ax=ax2)\n",
    "plt.title(\"average represent cost\")"
   ]
  },
  {
   "cell_type": "code",
   "execution_count": null,
   "id": "6bd012a3",
   "metadata": {},
   "outputs": [
    {
     "name": "stderr",
     "output_type": "stream",
     "text": [
      "100%|██████████| 893/893 [01:58<00:00,  7.51it/s]\n"
     ]
    }
   ],
   "source": [
    "# 计算相似度\n",
    "import torch.nn.functional as F\n",
    "sim_matrix = np.zeros((R_tensor.shape[1],R_tensor.shape[1]))\n",
    "for i in trange(R_tensor.shape[1]):\n",
    "    for j in range(R_tensor.shape[1]):\n",
    "        tmp_a = R_tensor[:][i]\n",
    "        tmp_b = R_tensor[:][j]\n",
    "        sim_matrix[i,j] = F.cosine_similarity(tmp_a, tmp_b, dim=0)\n",
    "np.save('sim_matrix.npy',sim_matrix)   # 保存为.npy格式"
   ]
  },
  {
   "cell_type": "code",
   "execution_count": null,
   "id": "bcec0d3b",
   "metadata": {},
   "outputs": [],
   "source": [
    "from sklearn.cluster import KMeans\n",
    "import numpy as np\n",
    "dis_4_cluster = R_tensor.cpu().detach().numpy().T\n",
    "# tsneData\n",
    "# 构造数据样本点集X，并计算K-means聚类\n",
    "X = np.array([[1, 2], [1, 4], [1, 0], [4, 2], [4, 4], [4, 0]])\n",
    "kmeans = KMeans(n_clusters=6, random_state=1,max_iter =300,n_init=10).fit(tsneData)\n",
    "\n",
    "# 输出及聚类后的每个样本点的标签（即类别），预测新的样本点所属类别\n",
    "print(kmeans.labels_)\n",
    "# print(kmeans.predict([[0, 0], [4, 4], [2, 1]]))\n",
    "kmeans_res_df = pd.DataFrame(kmeans.labels_)\n",
    "kmeans_res_df.hist()\n",
    "np.save('./kmeans_labels.npy',kmeans.labels_)"
   ]
  },
  {
   "cell_type": "code",
   "execution_count": null,
   "id": "4042784d",
   "metadata": {},
   "outputs": [
    {
     "name": "stderr",
     "output_type": "stream",
     "text": [
      "/tmp/ipykernel_578/3528420845.py:4: DeprecationWarning: an integer is required (got type float).  Implicit conversion to integers using __int__ is deprecated, and may be removed in a future version of Python.\n",
      "  R_tensor_rounding_subset_test = R_tensor_rounding_subset[p_picked_index,:]\n",
      "/usr/local/lib/python3.8/dist-packages/sklearn/manifold/_t_sne.py:795: FutureWarning: The default initialization in TSNE will change from 'random' to 'pca' in 1.2.\n",
      "  warnings.warn(\n",
      "/usr/local/lib/python3.8/dist-packages/sklearn/manifold/_t_sne.py:805: FutureWarning: The default learning rate in TSNE will change from 200.0 to 'auto' in 1.2.\n",
      "  warnings.warn(\n",
      "/tmp/ipykernel_578/3528420845.py:27: UserWarning: You passed a edgecolor/edgecolors ('b') for an unfilled marker ('x').  Matplotlib is ignoring the edgecolor in favor of the facecolor.  This behavior may change in the future.\n",
      "  sc = ax.scatter(tsneData[0:,0], tsneData[0:,1],marker='x',s=35,c='b',edgecolors='b')\n"
     ]
    },
    {
     "data": {
      "image/png": "[encoded data removed]",
      "text/plain": [
       "<Figure size 720x576 with 1 Axes>"
      ]
     },
     "metadata": {},
     "output_type": "display_data"
    }
   ],
   "source": [
    "# 降维二维可视化R矩阵\n",
    "R_tensor_rounding_subset = copy.deepcopy(R_tensor_rounding)\n",
    "p_picked_index = list(pathlet_dictionary[\"index\"]) #这是被选中到字典中的p的index\n",
    "R_tensor_rounding_subset_test = R_tensor_rounding_subset[p_picked_index,:]\n",
    "R_tensor_rounding_subset_test.T.shape\n",
    "\n",
    "import numpy as np\n",
    "import matplotlib.pyplot as plt\n",
    "from sklearn.manifold import TSNE\n",
    "\n",
    "# vecArr = np.random.rand(1000,512) #构造1000个512维向量, 换成实际需要聚类的向量即可\n",
    "tsneData = TSNE().fit_transform(R_tensor_rounding_subset_test.T.cpu())\n",
    "\n",
    "# case study 观察tsne中靠近的点是什么样的\n",
    "# near_point = []\n",
    "# for i in range(len(tsneData)):\n",
    "#     x=tsneData[i,0]\n",
    "#     y=tsneData[i,1]\n",
    "#     if x>0 and x<10 and y>10 and y<20:\n",
    "#         print(i)\n",
    "#         near_point.append(i)\n",
    "#开始进行可视化\n",
    "f = plt.figure(figsize=(10,8))\n",
    "ax = plt.subplot(aspect='equal')\n",
    "# for i in near_point:\n",
    "    # sc = ax.scatter(tsneData[i,0], tsneData[i,1],marker='o',s=100,c='w',edgecolors='r',linewidths=2)\n",
    "sc = ax.scatter(tsneData[0:,0], tsneData[0:,1],marker='x',s=35,c='b',edgecolors='b')\n",
    "plt.xlim(-50,50)\n",
    "plt.ylim(-50,50)\n",
    "ax.axis('off')\n",
    "ax.axis('tight')\n",
    "plt.show()\n",
    "\n"
   ]
  }
 ],
 "metadata": {
  "kernelspec": {
   "display_name": "base",
   "language": "python",
   "name": "python3"
  },
  "language_info": {
   "codemirror_mode": {
    "name": "ipython",
    "version": 3
   },
   "file_extension": ".py",
   "mimetype": "text/x-python",
   "name": "python",
   "nbconvert_exporter": "python",
   "pygments_lexer": "ipython3",
   "version": "3.9.12 (main, Apr  4 2022, 05:22:27) [MSC v.1916 64 bit (AMD64)]"
  },
  "toc-autonumbering": true,
  "toc-showmarkdowntxt": true,
  "vscode": {
   "interpreter": {
    "hash": "d7288e82646d3164eca24130947288f8779d11454649f2c02a5dfc42af7f324c"
   }
  }
 },
 "nbformat": 4,
 "nbformat_minor": 5
}
